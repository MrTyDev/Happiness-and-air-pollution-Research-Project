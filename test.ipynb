{
 "cells": [
  {
   "cell_type": "code",
   "execution_count": 1,
   "metadata": {},
   "outputs": [],
   "source": [
    "import ipywidgets as widgets\n",
    "from ipywidgets import interact\n",
    "import matplotlib.pyplot as plt\n",
    "import pandas as pd\n",
    "import numpy as np\n",
    "\n",
    "# Load the data\n",
    "analysis = pd.read_csv('2022Data.csv')\n",
    "\n",
    "\n"
   ]
  },
  {
   "cell_type": "code",
   "execution_count": 2,
   "metadata": {},
   "outputs": [],
   "source": [
    "def f(north_america, south_america, europe, asia, africa, oceania):\n",
    "    fig = plt.figure(figsize=(14, 7))\n",
    "    ax = fig.add_subplot()\n",
    "    ax.set_xlabel('GDP')\n",
    "    ax.set_ylabel('keki')\n",
    "    ax.grid()\n",
    "\n",
    "    continents = {\n",
    "        'North America': north_america,\n",
    "        'South America': south_america,\n",
    "        'Europe': europe,\n",
    "        'Asia': asia,\n",
    "        'Africa': africa,\n",
    "        'Oceania': oceania\n",
    "    }\n",
    "\n",
    "    for continent, selected in continents.items():\n",
    "        if selected:\n",
    "            continent_data = analysis[analysis['Continent'] == continent]\n",
    "            ax.scatter(continent_data[\"PM2.5\"], continent_data[\"Happiness Score\"], label=continent)\n",
    "\n",
    "    if any(continents.values()):\n",
    "        ax.legend()\n",
    "    else:\n",
    "        ax.legend('', frameon=False)\n",
    "\n",
    "    ax.set_title('GDP vs Social, Life and Corruption')\n",
    "\n",
    "interact(f, north_america=False, south_america=False, europe=False, asia=False, africa=False, oceania=False)"
   ]
  }
 ],
 "metadata": {
  "kernelspec": {
   "display_name": "base",
   "language": "python",
   "name": "python3"
  },
  "language_info": {
   "codemirror_mode": {
    "name": "ipython",
    "version": 3
   },
   "file_extension": ".py",
   "mimetype": "text/x-python",
   "name": "python",
   "nbconvert_exporter": "python",
   "pygments_lexer": "ipython3",
   "version": "3.11.5"
  }
 },
 "nbformat": 4,
 "nbformat_minor": 2
}
